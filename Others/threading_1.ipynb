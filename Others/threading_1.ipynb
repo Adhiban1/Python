{
 "cells": [
  {
   "cell_type": "code",
   "execution_count": null,
   "metadata": {},
   "outputs": [],
   "source": [
    "from threading import *\n",
    "from time import sleep\n",
    "\n",
    "\n",
    "class Hello(Thread):\n",
    "    def run(self):\n",
    "        for _ in range(5):\n",
    "            print('Hello')\n",
    "            sleep(1)\n",
    "\n",
    "\n",
    "class Hi(Thread):\n",
    "    def run(self):\n",
    "        for _ in range(5):\n",
    "            print('Hi')\n",
    "            sleep(1)\n",
    "\n",
    "t1 = Hello()\n",
    "t2 = Hi()\n",
    "\n",
    "t1.start()\n",
    "t2.start()\n",
    "\n",
    "t1.join()\n",
    "t2.join()\n",
    "\n",
    "print('Bye')"
   ]
  },
  {
   "cell_type": "code",
   "execution_count": null,
   "metadata": {},
   "outputs": [],
   "source": [
    "def new():\n",
    "    for x in range(5):\n",
    "        print(\"Child Thread ....\", current_thread().getName())\n",
    "t1 = Thread(target=new)\n",
    "t1.start()\n",
    "t1.join()\n",
    "print('Bye', current_thread().getName())"
   ]
  },
  {
   "cell_type": "code",
   "execution_count": null,
   "metadata": {},
   "outputs": [],
   "source": [
    "class ex:\n",
    "    def myfunc(self):\n",
    "        for i in range(10):\n",
    "            print('ok')\n",
    "\n",
    "obj = ex()\n",
    "thread1 = Thread(target=obj.myfunc)\n",
    "thread1.start()\n",
    "thread1.join()\n",
    "print('Hello')"
   ]
  },
  {
   "cell_type": "code",
   "execution_count": null,
   "metadata": {},
   "outputs": [],
   "source": [
    "from threading import *\n",
    "\n",
    "\n",
    "s = [i for i in range(1, 11)]\n",
    "\n",
    "\n",
    "def sum():\n",
    "    a = 0\n",
    "    for i in s:\n",
    "        a += i\n",
    "    print(f' sum: {a}')\n",
    "\n",
    "\n",
    "def multi():\n",
    "    a = 1\n",
    "    for i in s:\n",
    "        a = a*i\n",
    "    print(f' multi: {a}')\n",
    "\n",
    "\n",
    "t1 = Thread(target=sum)\n",
    "t2 = Thread(target=multi)\n",
    "t1.start()\n",
    "t2.start()\n"
   ]
  },
  {
   "cell_type": "code",
   "execution_count": null,
   "metadata": {},
   "outputs": [],
   "source": [
    "from threading import Thread\n",
    "from time import sleep\n",
    "\n",
    "class CpuPainter:\n",
    "\n",
    "    def paintwall(self):\n",
    "        sleep(2)\n",
    "        print('WallPainted')\n",
    "    \n",
    "    def __init__(self):\n",
    "        t = Thread(target=self.paintwall)\n",
    "        t.start()\n",
    "\n",
    "if __name__ == '__main__':\n",
    "    CpuPainter()\n",
    "    CpuPainter()\n",
    "    CpuPainter()\n",
    "    CpuPainter()\n",
    "    CpuPainter()"
   ]
  }
 ],
 "metadata": {
  "interpreter": {
   "hash": "da6d26ef6c238be6fd611710ec3a0e2168f10075b957bb42a4ddd5e5216c1fa2"
  },
  "kernelspec": {
   "display_name": "Python 3.10.0 64-bit",
   "language": "python",
   "name": "python3"
  },
  "language_info": {
   "codemirror_mode": {
    "name": "ipython",
    "version": 3
   },
   "file_extension": ".py",
   "mimetype": "text/x-python",
   "name": "python",
   "nbconvert_exporter": "python",
   "pygments_lexer": "ipython3",
   "version": "3.10.0"
  },
  "orig_nbformat": 4
 },
 "nbformat": 4,
 "nbformat_minor": 2
}
