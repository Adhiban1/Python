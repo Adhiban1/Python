{
 "cells": [
  {
   "cell_type": "markdown",
   "metadata": {},
   "source": [
    "# Tron Account Balance"
   ]
  },
  {
   "cell_type": "code",
   "execution_count": 1,
   "metadata": {},
   "outputs": [
    {
     "name": "stdout",
     "output_type": "stream",
     "text": [
      "0.14641\n"
     ]
    }
   ],
   "source": [
    "from tronpy import Tron\n",
    "\n",
    "client = Tron()\n",
    "\n",
    "def account_balance(address):\n",
    "    balance = client.get_account_balance(str(address))\n",
    "    return balance\n",
    "print(account_balance('TVr6fVkXnaVy6tdH5hdZh9yixkZJw3LFBk'))\n"
   ]
  },
  {
   "cell_type": "markdown",
   "metadata": {},
   "source": [
    "# Validate Tron address"
   ]
  },
  {
   "cell_type": "code",
   "execution_count": 2,
   "metadata": {},
   "outputs": [
    {
     "name": "stdout",
     "output_type": "stream",
     "text": [
      "True\n"
     ]
    }
   ],
   "source": [
    "def is_valid(address):\n",
    "    is_address = client.is_address(str(address))\n",
    "    return is_address\n",
    "print(is_valid('TVr6fVkXnaVy6tdH5hdZh9yixkZJw3LFBk'))\n"
   ]
  },
  {
   "cell_type": "markdown",
   "metadata": {},
   "source": [
    "# Transaction detail"
   ]
  },
  {
   "cell_type": "code",
   "execution_count": null,
   "metadata": {},
   "outputs": [],
   "source": [
    "def transation_detail(transaction_hash):\n",
    "    info = client.get_transaction_info(str(transaction_hash))\n",
    "    return info\n",
    "print(transation_detail(''))\n"
   ]
  }
 ],
 "metadata": {
  "interpreter": {
   "hash": "da6d26ef6c238be6fd611710ec3a0e2168f10075b957bb42a4ddd5e5216c1fa2"
  },
  "kernelspec": {
   "display_name": "Python 3.10.0 64-bit",
   "language": "python",
   "name": "python3"
  },
  "language_info": {
   "codemirror_mode": {
    "name": "ipython",
    "version": 3
   },
   "file_extension": ".py",
   "mimetype": "text/x-python",
   "name": "python",
   "nbconvert_exporter": "python",
   "pygments_lexer": "ipython3",
   "version": "3.10.0"
  },
  "orig_nbformat": 4
 },
 "nbformat": 4,
 "nbformat_minor": 2
}
